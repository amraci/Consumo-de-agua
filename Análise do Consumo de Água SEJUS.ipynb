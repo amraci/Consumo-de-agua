{
 "cells": [
  {
   "cell_type": "code",
   "execution_count": 1,
   "id": "0867ead1-5444-4792-b034-907cd5fa2184",
   "metadata": {},
   "outputs": [],
   "source": [
    "import dash\n",
    "from dash import dcc, html\n",
    "from dash.dependencies import Input, Output\n",
    "import pandas as pd\n",
    "import plotly.express as px"
   ]
  },
  {
   "cell_type": "code",
   "execution_count": 2,
   "id": "c03aa5a7-7e0f-4042-8b7a-30f070a93f7d",
   "metadata": {},
   "outputs": [
    {
     "data": {
      "text/html": [
       "<div>\n",
       "<style scoped>\n",
       "    .dataframe tbody tr th:only-of-type {\n",
       "        vertical-align: middle;\n",
       "    }\n",
       "\n",
       "    .dataframe tbody tr th {\n",
       "        vertical-align: top;\n",
       "    }\n",
       "\n",
       "    .dataframe thead th {\n",
       "        text-align: right;\n",
       "    }\n",
       "</style>\n",
       "<table border=\"1\" class=\"dataframe\">\n",
       "  <thead>\n",
       "    <tr style=\"text-align: right;\">\n",
       "      <th></th>\n",
       "      <th>Comp</th>\n",
       "      <th>Sigla</th>\n",
       "      <th>Unidade</th>\n",
       "      <th>Valor</th>\n",
       "      <th>Metro</th>\n",
       "      <th>Observações</th>\n",
       "    </tr>\n",
       "  </thead>\n",
       "  <tbody>\n",
       "    <tr>\n",
       "      <th>0</th>\n",
       "      <td>2021-06-01</td>\n",
       "      <td>UNIRE</td>\n",
       "      <td>UNIRE - UNID DE INTERNAÇÃO DO RECANTO DAS EMAS</td>\n",
       "      <td>289301.98</td>\n",
       "      <td>9684</td>\n",
       "      <td>NaN</td>\n",
       "    </tr>\n",
       "    <tr>\n",
       "      <th>1</th>\n",
       "      <td>2021-06-01</td>\n",
       "      <td>UISM</td>\n",
       "      <td>UNIDADE DE INTERNAÇÃO DE SANTA MARIA - UISM</td>\n",
       "      <td>31255.24</td>\n",
       "      <td>2099</td>\n",
       "      <td>NaN</td>\n",
       "    </tr>\n",
       "    <tr>\n",
       "      <th>2</th>\n",
       "      <td>2021-06-01</td>\n",
       "      <td>UIP</td>\n",
       "      <td>UIP - UNIDADE DE INTERNAÇÃO PLANALTINA</td>\n",
       "      <td>58892.58</td>\n",
       "      <td>1978</td>\n",
       "      <td>NaN</td>\n",
       "    </tr>\n",
       "    <tr>\n",
       "      <th>3</th>\n",
       "      <td>2021-06-01</td>\n",
       "      <td>UIPSS</td>\n",
       "      <td>UIPSS – UNIDADE DE INTERNAÇÃO PROVISÓRIA DE SÃ...</td>\n",
       "      <td>16793.38</td>\n",
       "      <td>570</td>\n",
       "      <td>NaN</td>\n",
       "    </tr>\n",
       "    <tr>\n",
       "      <th>4</th>\n",
       "      <td>2021-06-01</td>\n",
       "      <td>SEMI GAMA</td>\n",
       "      <td>UNIDADE DE ATENDIMENTO SEMILIBERDADE GAMA CENTRAL</td>\n",
       "      <td>4026.08</td>\n",
       "      <td>143</td>\n",
       "      <td>NaN</td>\n",
       "    </tr>\n",
       "  </tbody>\n",
       "</table>\n",
       "</div>"
      ],
      "text/plain": [
       "        Comp      Sigla                                            Unidade  \\\n",
       "0 2021-06-01      UNIRE     UNIRE - UNID DE INTERNAÇÃO DO RECANTO DAS EMAS   \n",
       "1 2021-06-01       UISM        UNIDADE DE INTERNAÇÃO DE SANTA MARIA - UISM   \n",
       "2 2021-06-01        UIP             UIP - UNIDADE DE INTERNAÇÃO PLANALTINA   \n",
       "3 2021-06-01      UIPSS  UIPSS – UNIDADE DE INTERNAÇÃO PROVISÓRIA DE SÃ...   \n",
       "4 2021-06-01  SEMI GAMA  UNIDADE DE ATENDIMENTO SEMILIBERDADE GAMA CENTRAL   \n",
       "\n",
       "       Valor  Metro Observações  \n",
       "0  289301.98   9684         NaN  \n",
       "1   31255.24   2099         NaN  \n",
       "2   58892.58   1978         NaN  \n",
       "3   16793.38    570         NaN  \n",
       "4    4026.08    143         NaN  "
      ]
     },
     "execution_count": 2,
     "metadata": {},
     "output_type": "execute_result"
    }
   ],
   "source": [
    "df = pd.read_excel('D:/consumo_caesb.xlsx')\n",
    "df.head()"
   ]
  },
  {
   "cell_type": "code",
   "execution_count": 3,
   "id": "b37bd56b-4f03-4536-8fb5-fa30cb0ea0cb",
   "metadata": {},
   "outputs": [],
   "source": [
    "app = dash.Dash(__name__)"
   ]
  },
  {
   "cell_type": "code",
   "execution_count": 4,
   "id": "14ef2817-fa2d-4bd3-b559-b88ea407451f",
   "metadata": {},
   "outputs": [],
   "source": [
    "app.layout = html.Div([\n",
    "    html.H1(\"Dashboard de Consumo de Água\"),\n",
    "    dcc.Dropdown(\n",
    "        id='tipo-consumo',\n",
    "        options=[\n",
    "           # {'label': 'Consumo Total', 'value': 'total'},\n",
    "            {'label': 'Consumo Médio', 'value': 'medio'},\n",
    "        ],\n",
    "        value='medio'\n",
    "    ),\n",
    "    dcc.Dropdown(\n",
    "        id='filtro-unidade',\n",
    "        options=[{'label': unidade, 'value': unidade} for unidade in df['Sigla'].unique()],\n",
    "        value=df['Sigla'].unique()[0],  # Valor padrão\n",
    "        multi=False\n",
    "    ),\n",
    "    dcc.Graph(id='grafico-consumo')\n",
    "])"
   ]
  },
  {
   "cell_type": "code",
   "execution_count": 5,
   "id": "8e7efe1b-5e21-466d-8c25-9f840e613416",
   "metadata": {},
   "outputs": [],
   "source": [
    "@app.callback(\n",
    "    Output('grafico-consumo', 'figure'),\n",
    "    [Input('tipo-consumo', 'value'),\n",
    "     Input('filtro-unidade', 'value')]\n",
    ")\n",
    "def atualizar_grafico(tipo, unidade):\n",
    "    # Filtrar o dataframe pela unidade selecionada\n",
    "    df_filtrado = df[df['Sigla'] == unidade]\n",
    "\n",
    "    #if tipo == 'total':\n",
    "    #    fig = px.line(df_filtrado, x='Comp', y='Metro', title=f'Consumo Total de Água - {unidade}')                 \n",
    "    #else:\n",
    "    media = df_filtrado['Metro'].median()\n",
    "    fig = px.bar(df_filtrado, x='Comp', y='Metro', title=f'Consumo Médio de Água - {unidade}', \n",
    "                     text=df_filtrado['Metro'].apply(lambda x: f'{x/media:.2%}'))     \n",
    "               \n",
    "\n",
    "     # Adicionando a linha da média\n",
    "    fig.add_hline(y=media, line_dash=\"dash\", line_color=\"red\", \n",
    "                      annotation_text=\"Mediana\", annotation_position=\"bottom right\")\n",
    "        \n",
    "    return fig"
   ]
  },
  {
   "cell_type": "code",
   "execution_count": 6,
   "id": "e7a721d9-7d42-416a-a26b-0fc9a88138bc",
   "metadata": {
    "scrolled": true
   },
   "outputs": [
    {
     "data": {
      "text/html": [
       "\n",
       "        <iframe\n",
       "            width=\"100%\"\n",
       "            height=\"650\"\n",
       "            src=\"http://127.0.0.1:8050/\"\n",
       "            frameborder=\"0\"\n",
       "            allowfullscreen\n",
       "            \n",
       "        ></iframe>\n",
       "        "
      ],
      "text/plain": [
       "<IPython.lib.display.IFrame at 0x2306995de20>"
      ]
     },
     "metadata": {},
     "output_type": "display_data"
    }
   ],
   "source": [
    "if __name__ == '__main__':\n",
    "    app.run_server(debug=True)"
   ]
  },
  {
   "cell_type": "code",
   "execution_count": null,
   "id": "13ab370c-40ff-41f7-8814-05150bf5c177",
   "metadata": {},
   "outputs": [],
   "source": []
  }
 ],
 "metadata": {
  "kernelspec": {
   "display_name": "Python 3 (ipykernel)",
   "language": "python",
   "name": "python3"
  },
  "language_info": {
   "codemirror_mode": {
    "name": "ipython",
    "version": 3
   },
   "file_extension": ".py",
   "mimetype": "text/x-python",
   "name": "python",
   "nbconvert_exporter": "python",
   "pygments_lexer": "ipython3",
   "version": "3.12.4"
  }
 },
 "nbformat": 4,
 "nbformat_minor": 5
}
